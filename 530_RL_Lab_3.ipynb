{
  "nbformat": 4,
  "nbformat_minor": 0,
  "metadata": {
    "colab": {
      "provenance": [],
      "authorship_tag": "ABX9TyNro0Zvtu7xG0fm552ahkBj",
      "include_colab_link": true
    },
    "kernelspec": {
      "name": "python3",
      "display_name": "Python 3"
    },
    "language_info": {
      "name": "python"
    }
  },
  "cells": [
    {
      "cell_type": "markdown",
      "metadata": {
        "id": "view-in-github",
        "colab_type": "text"
      },
      "source": [
        "<a href=\"https://colab.research.google.com/github/ManishSuhas0026/Reinforcement-Learning/blob/main/530_RL_Lab_3.ipynb\" target=\"_parent\"><img src=\"https://colab.research.google.com/assets/colab-badge.svg\" alt=\"Open In Colab\"/></a>"
      ]
    },
    {
      "cell_type": "code",
      "execution_count": 2,
      "metadata": {
        "id": "YdKAYm7Oz5GT"
      },
      "outputs": [],
      "source": [
        "import numpy as np"
      ]
    },
    {
      "cell_type": "code",
      "source": [
        "class MDP:\n",
        "    def __init__(self, states, actions, transition_probs, rewards, gamma):\n",
        "        self.states = states\n",
        "        self.actions = actions\n",
        "        self.transition_probs = transition_probs\n",
        "        self.rewards = rewards\n",
        "        self.gamma = gamma\n",
        "\n",
        "    def get_transition_prob(self, state, action, next_state):\n",
        "        return self.transition_probs[state][action].get(next_state, 0)\n",
        "\n",
        "    def get_reward(self, state, action):\n",
        "        return self.rewards.get(state, {}).get(action, 0)"
      ],
      "metadata": {
        "id": "r8CZim4r0BfO"
      },
      "execution_count": 3,
      "outputs": []
    },
    {
      "cell_type": "code",
      "source": [
        "def value_iteration(mdp, threshold=1e-6):\n",
        "    # Initialize values arbitrarily, typically to zero\n",
        "    values = {state: 0 for state in mdp.states}\n",
        "    policy = {state: None for state in mdp.states}\n",
        "\n",
        "    while True:\n",
        "        max_delta = 0\n",
        "        new_values = values.copy()\n",
        "\n",
        "        for state in mdp.states:\n",
        "            max_value = float('-inf')\n",
        "            best_action = None\n",
        "\n",
        "            # Check all possible actions to find the best one\n",
        "            for action in mdp.actions:\n",
        "                # Calculate expected value of taking action 'a' in state 's'\n",
        "                action_value = sum(\n",
        "                    mdp.get_transition_prob(state, action, next_state) *\n",
        "                    (mdp.get_reward(state, action) + mdp.gamma * values[next_state])\n",
        "                    for next_state in mdp.states\n",
        "                )\n",
        "\n",
        "                # Find the action with the maximum value\n",
        "                if action_value > max_value:\n",
        "                    max_value = action_value\n",
        "                    best_action = action\n",
        "\n",
        "            # Update the value of the state\n",
        "            new_values[state] = max_value\n",
        "            policy[state] = best_action\n",
        "\n",
        "            # Calculate the difference for convergence check\n",
        "            max_delta = max(max_delta, abs(new_values[state] - values[state]))\n",
        "\n",
        "        # Update values for the next iteration\n",
        "        values = new_values\n",
        "\n",
        "        # Stop if the values have converged\n",
        "        if max_delta < threshold:\n",
        "            break\n",
        "\n",
        "    return policy, values"
      ],
      "metadata": {
        "id": "vb8mZAjr0GDQ"
      },
      "execution_count": 4,
      "outputs": []
    },
    {
      "cell_type": "code",
      "source": [
        "states = ['A', 'B', 'C']\n",
        "actions = ['left', 'right']\n",
        "transition_probs = {\n",
        "    'A': {'left': {'A': 1.0}, 'right': {'B': 1.0}},\n",
        "    'B': {'left': {'A': 0.5, 'B': 0.5}, 'right': {'C': 1.0}},\n",
        "    'C': {'left': {'B': 1.0}, 'right': {'C': 1.0}}\n",
        "}\n",
        "rewards = {\n",
        "    'A': {'left': 0, 'right': 1},\n",
        "    'B': {'left': 0, 'right': 2},\n",
        "    'C': {'left': 0, 'right': 3}\n",
        "}\n",
        "gamma = 0.9\n",
        "\n",
        "# Create an MDP instance\n",
        "mdp = MDP(states, actions, transition_probs, rewards, gamma)\n",
        "\n",
        "# Run value iteration\n",
        "optimal_policy, optimal_values = value_iteration(mdp)\n",
        "\n",
        "print(\"Optimal Policy:\")\n",
        "for state, action in optimal_policy.items():\n",
        "    print(f\"  State {state}: {action}\")\n",
        "\n",
        "print(\"\\nOptimal Values:\")\n",
        "for state, value in optimal_values.items():\n",
        "    print(f\"  State {state}: {value}\")"
      ],
      "metadata": {
        "colab": {
          "base_uri": "https://localhost:8080/"
        },
        "id": "YOGVs0p70TpS",
        "outputId": "a08d1530-a05c-43ab-c90b-ca919b99325d"
      },
      "execution_count": 5,
      "outputs": [
        {
          "output_type": "stream",
          "name": "stdout",
          "text": [
            "Optimal Policy:\n",
            "  State A: right\n",
            "  State B: right\n",
            "  State C: right\n",
            "\n",
            "Optimal Values:\n",
            "  State A: 27.09999141381772\n",
            "  State B: 28.99999141381772\n",
            "  State C: 29.99999141381772\n"
          ]
        }
      ]
    }
  ]
}