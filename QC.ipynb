{
  "nbformat": 4,
  "nbformat_minor": 0,
  "metadata": {
    "colab": {
      "provenance": []
    },
    "kernelspec": {
      "name": "python3",
      "display_name": "Python 3"
    },
    "language_info": {
      "name": "python"
    }
  },
  "cells": [
    {
      "cell_type": "code",
      "execution_count": 10,
      "metadata": {
        "id": "nEYeIVAhn__I"
      },
      "outputs": [],
      "source": [
        "import numpy as np\n",
        "import matplotlib.pyplot as plt"
      ]
    },
    {
      "cell_type": "code",
      "source": [
        "# Define the qubit state\n",
        "def define_qubit(alpha, beta):\n",
        "    state = np.array([alpha, beta])\n",
        "    return state"
      ],
      "metadata": {
        "id": "igYII1d7oIxF"
      },
      "execution_count": 11,
      "outputs": []
    },
    {
      "cell_type": "markdown",
      "source": [
        "we are taking alpha and beta as complex coefficient as input to return quibit state vector"
      ],
      "metadata": {
        "id": "Ce8TcNDvqxf-"
      }
    },
    {
      "cell_type": "code",
      "source": [
        "# Check the validity of the qubit state\n",
        "def is_valid_state(state):\n",
        "    norm = np.linalg.norm(state)\n",
        "    return np.isclose(norm, 1.0)"
      ],
      "metadata": {
        "id": "KRRCsblnoNVs"
      },
      "execution_count": 12,
      "outputs": []
    },
    {
      "cell_type": "markdown",
      "source": [
        "we make sure state vector has unit norm, which is necessary for a valid qubit\n",
        "to check the norm weare using linalg.norm which is used in numpy library\n"
      ],
      "metadata": {
        "id": "ggmwHef5qSxY"
      }
    },
    {
      "cell_type": "code",
      "source": [
        "# Simulate measurements on the qubit\n",
        "def simulate_measurements(state, num_measurements):\n",
        "    alpha, beta = state\n",
        "    prob_0 = np.abs(alpha)**2\n",
        "    prob_1 = np.abs(beta)**2\n",
        "\n",
        "    # Randomly simulate measurement outcomes based on probabilities\n",
        "    outcomes = np.random.choice([0, 1], size=num_measurements, p=[prob_0, prob_1])\n",
        "    return outcomes"
      ],
      "metadata": {
        "id": "d8m_Hl1lqqCl"
      },
      "execution_count": 13,
      "outputs": []
    },
    {
      "cell_type": "markdown",
      "source": [
        "here we are taking squared magnitude of alpha and beta so that we can measure the probabilities of 0 and 1"
      ],
      "metadata": {
        "id": "S4D5_OjSrUaF"
      }
    },
    {
      "cell_type": "code",
      "source": [
        "# Visualize the measurement results\n",
        "def visualize_results(outcomes):\n",
        "    unique, counts = np.unique(outcomes, return_counts=True)\n",
        "    plt.bar(unique, counts, tick_label=[\"0\", \"1\"])\n",
        "    plt.xlabel(\"Measurement Outcome\")\n",
        "    plt.ylabel(\"Frequency\")\n",
        "    plt.title(\"Qubit Measurement Results\")\n",
        "    plt.show()"
      ],
      "metadata": {
        "id": "2merXObaoP0q"
      },
      "execution_count": 14,
      "outputs": []
    },
    {
      "cell_type": "code",
      "source": [
        "def main():\n",
        "    # Define a valid qubit state with alpha and beta\n",
        "    alpha = 1/np.sqrt(2)\n",
        "    beta = 1j/np.sqrt(2)\n",
        "\n",
        "    # Create qubit state vector\n",
        "    qubit_state = define_qubit(alpha, beta)\n",
        "\n",
        "    # Check if the qubit state is valid\n",
        "    if is_valid_state(qubit_state):\n",
        "        print(f\"The state {qubit_state} is a valid qubit state.\")\n",
        "    else:\n",
        "        print(f\"The state {qubit_state} is NOT a valid qubit state.\")\n",
        "\n",
        "    # Simulate measurements\n",
        "    num_measurements = 1000\n",
        "    outcomes = simulate_measurements(qubit_state, num_measurements)\n",
        "\n",
        "    # Visualize the measurement results\n",
        "    visualize_results(outcomes)"
      ],
      "metadata": {
        "id": "cKgzAnhloT5q"
      },
      "execution_count": 15,
      "outputs": []
    },
    {
      "cell_type": "code",
      "source": [
        "if __name__ == \"__main__\":\n",
        "    main()"
      ],
      "metadata": {
        "colab": {
          "base_uri": "https://localhost:8080/",
          "height": 490
        },
        "id": "UuQEoTjxoabJ",
        "outputId": "35f48c1f-0d5a-4f6c-c2a2-8dcfefd789b5"
      },
      "execution_count": 16,
      "outputs": [
        {
          "output_type": "stream",
          "name": "stdout",
          "text": [
            "The state [0.70710678+0.j         0.        +0.70710678j] is a valid qubit state.\n"
          ]
        },
        {
          "output_type": "display_data",
          "data": {
            "text/plain": [
              "<Figure size 640x480 with 1 Axes>"
            ],
            "image/png": "[encoded data removed]"
          },
          "metadata": {}
        }
      ]
    }
  ]
}